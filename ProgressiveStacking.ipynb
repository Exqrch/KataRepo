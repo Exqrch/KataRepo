{
 "cells": [
  {
   "cell_type": "code",
   "execution_count": 1,
   "id": "4fbd146b",
   "metadata": {},
   "outputs": [],
   "source": [
    "from ipywidgets import FloatProgress"
   ]
  },
  {
   "cell_type": "code",
   "execution_count": 2,
   "id": "bfd44f0f",
   "metadata": {},
   "outputs": [
    {
     "name": "stdout",
     "output_type": "stream",
     "text": [
      "\u001b[34m\u001b[1mwandb\u001b[0m: Appending key for api.wandb.ai to your netrc file: /root/.netrc\r\n"
     ]
    }
   ],
   "source": [
    "!wandb login --relogin b1dd9c8326832dc2f1eb1b635a44f5428cd40b85"
   ]
  },
  {
   "cell_type": "code",
   "execution_count": 3,
   "id": "c7c1fc9b",
   "metadata": {},
   "outputs": [
    {
     "name": "stderr",
     "output_type": "stream",
     "text": [
      "\u001b[34m\u001b[1mwandb\u001b[0m: Currently logged in as: \u001b[33mkata-research\u001b[0m. Use \u001b[1m`wandb login --relogin`\u001b[0m to force relogin\n"
     ]
    },
    {
     "data": {
      "text/html": [
       "Tracking run with wandb version 0.12.18"
      ],
      "text/plain": [
       "<IPython.core.display.HTML object>"
      ]
     },
     "metadata": {},
     "output_type": "display_data"
    },
    {
     "data": {
      "text/html": [
       "Run data is saved locally in <code>/workspace/intern/KataRepo/wandb/run-20220613_093058-1i6ok50z</code>"
      ],
      "text/plain": [
       "<IPython.core.display.HTML object>"
      ]
     },
     "metadata": {},
     "output_type": "display_data"
    },
    {
     "data": {
      "text/html": [
       "Syncing run <strong><a href=\"https://wandb.ai/kata-research/lentera/runs/1i6ok50z\" target=\"_blank\">morning-pine-78</a></strong> to <a href=\"https://wandb.ai/kata-research/lentera\" target=\"_blank\">Weights & Biases</a> (<a href=\"https://wandb.me/run\" target=\"_blank\">docs</a>)<br/>"
      ],
      "text/plain": [
       "<IPython.core.display.HTML object>"
      ]
     },
     "metadata": {},
     "output_type": "display_data"
    },
    {
     "data": {
      "text/html": [
       "<button onClick=\"this.nextSibling.style.display='block';this.style.display='none';\">Display W&B run</button><iframe src=\"https://wandb.ai/kata-research/lentera/runs/1i6ok50z?jupyter=true\" style=\"border:none;width:100%;height:420px;display:none;\"></iframe>"
      ],
      "text/plain": [
       "<wandb.sdk.wandb_run.Run at 0x7f19183f1f70>"
      ]
     },
     "execution_count": 3,
     "metadata": {},
     "output_type": "execute_result"
    }
   ],
   "source": [
    "import wandb\n",
    "\n",
    "wandb.init(project=\"lentera\", entity=\"kata-research\")"
   ]
  },
  {
   "cell_type": "code",
   "execution_count": 13,
   "id": "c09d34da",
   "metadata": {},
   "outputs": [],
   "source": [
    "# Helper Functions\n",
    "import copy\n",
    "from collections import OrderedDict\n",
    "\n",
    "def updateModel(model, optimizer, freeze=False, mode=\"double\"):\n",
    "  \"\"\"\n",
    "    model     : a Pytorch Model\n",
    "    optimizer : a Pytorch optimizer\n",
    "    freeze    : Should the model freeze all of the previous encoder layers? Default = False\n",
    "    mode      : How should layers be added?\n",
    "                1. \"double\" (Default) --> Double the encoder layer\n",
    "                2. \"mean_double\"      --> Double the encoder layer, but each added layers are the mean of the previous layers\n",
    "                3. \"mean_single\"      --> Add a single layer, with it weights being the mean of the previous layers\n",
    "  \"\"\"\n",
    "\n",
    "  # Copy bert encoder layers\n",
    "  unfrozen = copy.deepcopy(model.bert.encoder.layer)\n",
    "\n",
    "  # What is the mode?\n",
    "  if (\"mean\" in mode.split('_')):\n",
    "    unfrozen = single_layer(unfrozen, \"mean\")\n",
    "    \n",
    "  # Freeze layers that have been trained\n",
    "  if (freeze):\n",
    "    for params in model.bert.encoder.layer.parameters():\n",
    "        params.requires_grad = False\n",
    "  \n",
    "\n",
    "  # Add layers of encoder to the model\n",
    "  if (mode == \"double\"):\n",
    "    for i in range(len(model.bert.encoder.layer)):\n",
    "      model.bert.encoder.layer.append(unfrozen[i])\n",
    "  elif (\"single\" in mode):\n",
    "    model.bert.encoder.layer.append(unfrozen)\n",
    "  elif (\"double\" in mode):\n",
    "    for i in range(len(model.bert.encoder.layer)):\n",
    "      model.bert.encoder.layer.append(unfrozen)\n",
    "  \n",
    "  new_optimizer = AdamW(model.parameters(), lr=5e-5)\n",
    "  return model, new_optimizer\n",
    "\n",
    "def single_layer(layer, mode):\n",
    "  sdUnfrozen = unfrozen.state_dict()\n",
    "\n",
    "  sum_layer = OrderedDict()\n",
    "  done_queries = []\n",
    "  final_layer = OrderedDict()\n",
    "  mode = 'mean'\n",
    "  for key in sdUnfrozen:\n",
    "    q = '.'.join(key.split('.')[1:])\n",
    "    if (q not in done_queries):\n",
    "      done_queries.append(q)\n",
    "      lay_num = 0\n",
    "      for key in sdUnfrozen:\n",
    "        if ('.'.join(key.split('.')[1:]) == q):\n",
    "          if (lay_num == 0):\n",
    "            sum_layer[q] = copy.deepcopy(sdUnfrozen[key])\n",
    "          else:\n",
    "            sum_layer[q] += sdUnfrozen[key]\n",
    "          lay_num += 1\n",
    "      if (mode == 'mean'):\n",
    "        final_layer[q] = copy.deepcopy(sum_layer[q])/(lay_num)\n",
    "\n",
    "  singular_unfrozen = unfrozen[0]\n",
    "  singular_unfrozen.load_state_dict(final_layer)\n",
    "\n",
    "  for params in singular_unfrozen.parameters():\n",
    "    params.requires_grad = True\n",
    "  \n",
    "  return singular_unfrozen\n"
   ]
  },
  {
   "cell_type": "code",
   "execution_count": 14,
   "id": "6312e2fb",
   "metadata": {},
   "outputs": [],
   "source": [
    "# Encoding Helpers\n",
    "def encode_with_truncation(examples, max_length = 512):\n",
    "    \"\"\"Mapping function to tokenize the sentences passed with truncation\"\"\"\n",
    "    return tokenizer(examples[\"text\"], truncation=True, return_special_tokens_mask=True)\n",
    "\n",
    "def encode_without_truncation(examples):\n",
    "    \"\"\"Mapping function to tokenize the sentences passed without truncation\"\"\"\n",
    "    return tokenizer(examples[\"text\"], return_special_tokens_mask=True)"
   ]
  },
  {
   "cell_type": "code",
   "execution_count": 17,
   "id": "2312afa4",
   "metadata": {},
   "outputs": [
    {
     "name": "stderr",
     "output_type": "stream",
     "text": [
      "Using custom data configuration default-1fdf1ccf73c8b82a\n",
      "Reusing dataset text (/root/.cache/huggingface/datasets/text/default-1fdf1ccf73c8b82a/0.0.0/4b86d314f7236db91f0a0f5cda32d4375445e64c5eda2692655dd99c2dac68e8)\n"
     ]
    },
    {
     "data": {
      "application/vnd.jupyter.widget-view+json": {
       "model_id": "d9c13942a39e4f97904688c9da27bcc2",
       "version_major": 2,
       "version_minor": 0
      },
      "text/plain": [
       "  0%|          | 0/1 [00:00<?, ?it/s]"
      ]
     },
     "metadata": {},
     "output_type": "display_data"
    },
    {
     "name": "stderr",
     "output_type": "stream",
     "text": [
      "Some weights of the model checkpoint at bert-base-uncased were not used when initializing BertForMaskedLM: ['cls.seq_relationship.weight', 'cls.seq_relationship.bias']\n",
      "- This IS expected if you are initializing BertForMaskedLM from the checkpoint of a model trained on another task or with another architecture (e.g. initializing a BertForSequenceClassification model from a BertForPreTraining model).\n",
      "- This IS NOT expected if you are initializing BertForMaskedLM from the checkpoint of a model that you expect to be exactly identical (initializing a BertForSequenceClassification model from a BertForSequenceClassification model).\n",
      "Loading cached processed dataset at /root/.cache/huggingface/datasets/text/default-1fdf1ccf73c8b82a/0.0.0/4b86d314f7236db91f0a0f5cda32d4375445e64c5eda2692655dd99c2dac68e8/cache-d724efc30355e89d.arrow\n"
     ]
    },
    {
     "name": "stdout",
     "output_type": "stream",
     "text": [
      "Model will be updated at [1, 3]\n",
      "Training: \n"
     ]
    },
    {
     "data": {
      "application/vnd.jupyter.widget-view+json": {
       "model_id": "89e6c53c683740eabf04336a50d5f165",
       "version_major": 2,
       "version_minor": 0
      },
      "text/plain": [
       "  0%|          | 0/12 [00:00<?, ?it/s]"
      ]
     },
     "metadata": {},
     "output_type": "display_data"
    },
    {
     "name": "stderr",
     "output_type": "stream",
     "text": [
      "\r",
      "14it [00:45,  3.28s/it]"
     ]
    },
    {
     "name": "stdout",
     "output_type": "stream",
     "text": [
      "Training: \n",
      "Train Total Batch Size = 8\n",
      "Number of steps to be taken = 12\n"
     ]
    },
    {
     "name": "stderr",
     "output_type": "stream",
     "text": [
      "\n"
     ]
    },
    {
     "data": {
      "application/vnd.jupyter.widget-view+json": {
       "model_id": "3962ea71bcb14697b0093916c19a481a",
       "version_major": 2,
       "version_minor": 0
      },
      "text/plain": [
       "  0%|          | 0/12 [00:00<?, ?it/s]"
      ]
     },
     "metadata": {},
     "output_type": "display_data"
    },
    {
     "name": "stdout",
     "output_type": "stream",
     "text": [
      "Updating Model:\n",
      "Previously at 3\n",
      "Currently at 6\n",
      "Updating Model:\n",
      "Previously at 6\n",
      "Currently at 12\n"
     ]
    }
   ],
   "source": [
    "from datasets import load_dataset\n",
    "from transformers import AutoTokenizer, AutoModelForMaskedLM, BertForMaskedLM\n",
    "from transformers import DataCollatorForLanguageModeling\n",
    "from tqdm.auto import tqdm\n",
    "\n",
    "import torch\n",
    "from torch.optim import AdamW\n",
    "from torch.utils.data import DataLoader\n",
    "\n",
    "# Load Dataset\n",
    "DATA_PATH = \"data/first100.txt\"\n",
    "text_dataset = load_dataset(\"text\", data_files=DATA_PATH)['train']\n",
    "\n",
    "# Get Models and Tokenizer\n",
    "CHECKPOINT = 'bert-base-uncased'\n",
    "tokenizer = AutoTokenizer.from_pretrained(CHECKPOINT)\n",
    "model_conf = BertForMaskedLM.from_pretrained(CHECKPOINT).config\n",
    "model = BertForMaskedLM(model_conf)\n",
    "\n",
    "# Set Model to 3 Encoder Layer\n",
    "for i in range(11, 2, -1):\n",
    "  del model.bert.encoder.layer[i]\n",
    "\n",
    "# Tokenize Dataset\n",
    "tokenized_dataset = text_dataset.map(encode_with_truncation, batched=True)\n",
    "\n",
    "# Set Devices\n",
    "device = torch.device(\"cuda\") if torch.cuda.is_available() else torch.device(\"cpu\")\n",
    "\n",
    "# Set Up Data Collator\n",
    "data_collator = DataCollatorForLanguageModeling(\n",
    "    tokenizer=tokenizer, mlm=True, mlm_probability=0.15\n",
    ")\n",
    "\n",
    "# Set up DataLoader\n",
    "train_batch_size = 1\n",
    "train_dataset = tokenized_dataset.remove_columns(['text'])\n",
    "train_dataloader = DataLoader(train_dataset, batch_size = train_batch_size, collate_fn = data_collator, shuffle=True)\n",
    "\n",
    "# Preparing Tensors\n",
    "model = model.to(device)\n",
    "optimizer = AdamW(model.parameters(), lr=5e-5)\n",
    "\n",
    "# Set Up Constants (Insert scheduler here)\n",
    "num_epoch = 1\n",
    "accum_iter = 8\n",
    "num_training_steps = int(num_epoch / accum_iter * len(train_dataset))\n",
    "\n",
    "# Set Up When To Update Model\n",
    "update_steps = [\n",
    "    int(num_training_steps * 0.1),\n",
    "    int(num_training_steps * 0.25)\n",
    "]\n",
    "print(f\"Model will be updated at {update_steps}\")\n",
    "\n",
    "# Main Training Loop\n",
    "print(\"Training: \")\n",
    "progress_bar = tqdm(range(num_training_steps))\n",
    "step_num = 0\n",
    "model.train()\n",
    "# Main Training Loop\n",
    "print(\"Training: \")\n",
    "print(f\"Train Total Batch Size = {accum_iter * train_batch_size}\")\n",
    "print(f\"Number of steps to be taken = {num_training_steps}\")\n",
    "progress_bar = tqdm(range(num_training_steps))\n",
    "step_num = 0\n",
    "actual_step = 0\n",
    "sum_train_loss = 0\n",
    "model.train()\n",
    "for epoch in range(num_epoch):\n",
    "    for (i, batch) in enumerate(train_dataloader):\n",
    "        batch = {k: v.to(device) for k, v in batch.items()}\n",
    "        outputs = model(**batch)\n",
    "        loss = outputs.loss\n",
    "        loss.backward()\n",
    "        sum_train_loss += loss.item()\n",
    "\n",
    "        # Gradient Accumulation\n",
    "        if (((i % accum_iter) == 0) or (i + 1 == len(train_dataloader))):\n",
    "            optimizer.step()\n",
    "            optimizer.zero_grad()\n",
    "            progress_bar.update(1)\n",
    "            step_num += 1\n",
    "            \n",
    "            if (step_num in update_steps):\n",
    "                print(\"Updating Model:\")\n",
    "                print(f\"Previously at {len(model.bert.encoder.layer)}\")\n",
    "                model, optimizer = updateModel(model, optimizer, freeze=False, mode=\"double\")\n",
    "                print(f\"Currently at {len(model.bert.encoder.layer)}\")\n",
    "            \n",
    "\n",
    "        wandb.log({\"loss\": loss})\n",
    "        \n",
    "model_name = \"progressive-test\"\n",
    "SAVE_PATH = f\"model/{model_name}\"\n",
    "model.save_pretrained(SAVE_PATH)\n"
   ]
  },
  {
   "cell_type": "code",
   "execution_count": null,
   "id": "0245c2b4",
   "metadata": {},
   "outputs": [],
   "source": []
  }
 ],
 "metadata": {
  "kernelspec": {
   "display_name": "Python 3 (ipykernel)",
   "language": "python",
   "name": "python3"
  },
  "language_info": {
   "codemirror_mode": {
    "name": "ipython",
    "version": 3
   },
   "file_extension": ".py",
   "mimetype": "text/x-python",
   "name": "python",
   "nbconvert_exporter": "python",
   "pygments_lexer": "ipython3",
   "version": "3.8.10"
  }
 },
 "nbformat": 4,
 "nbformat_minor": 5
}
